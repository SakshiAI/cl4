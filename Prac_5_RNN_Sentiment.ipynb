{
 "cells": [
  {
   "cell_type": "code",
   "execution_count": null,
   "id": "1d6f6539-6ab2-4bcf-b67b-ee557de453cd",
   "metadata": {},
   "outputs": [],
   "source": [
    "import tensorflow as tf\n",
    "from tensorflow.keras.datasets import imdb\n",
    "from tensorflow.keras.preprocessing.sequence import pad_sequences\n",
    "from tensorflow.keras.models import Sequential\n",
    "from tensorflow.keras.layers import Embedding,SimpleRNN,Dense\n"
   ]
  },
  {
   "cell_type": "code",
   "execution_count": null,
   "id": "702ada29-fc3c-49ea-980f-00a92d4a9631",
   "metadata": {},
   "outputs": [],
   "source": [
    "#load dataaa\n",
    "(x_train,y_train),(x_test,y_test)=imdb.load_data(num_words=10000)"
   ]
  },
  {
   "cell_type": "code",
   "execution_count": null,
   "id": "d8bfc3d3-e5cf-4886-a02d-06376477ab79",
   "metadata": {},
   "outputs": [],
   "source": [
    "# pad_sequences\n",
    "x_train = pad_sequences(x_train,maxlen=200)\n",
    "x_test = pad_sequences(x_test,maxlen=200)"
   ]
  },
  {
   "cell_type": "code",
   "execution_count": null,
   "id": "1f80252a-b766-4582-94ef-b4e59309f399",
   "metadata": {},
   "outputs": [],
   "source": [
    "#RNN\n",
    "model = Sequential([\n",
    "    Embedding(input_dim=10000,output_dim=32,input_length=200),\n",
    "    SimpleRNN(64),\n",
    "    Dense(1,activation='sigmoid') # binary sentiment\n",
    "])\n",
    "#compile and train\n",
    "model.compile(optimizer='adam',loss='binary_crossentropy',metrics=['accuracy'])\n",
    "model.fit(x_train,y_train,epochs=3,batch_size=64,validation_split=0.2)"
   ]
  },
  {
   "cell_type": "code",
   "execution_count": null,
   "id": "845ade73-96b4-4652-a492-09a59cf0ee6f",
   "metadata": {},
   "outputs": [],
   "source": [
    "# Evaluate\n",
    "loss,acc=model.evaluate(x_test,y_test)\n",
    "print('Test Accuracy= ',acc)\n"
   ]
  },
  {
   "cell_type": "code",
   "execution_count": null,
   "id": "ed1d5610-8841-405a-a993-1a712e6877e8",
   "metadata": {},
   "outputs": [],
   "source": [
    "# Pick one review from test set\n",
    "sample = x_test[0]  # Already padded\n",
    "\n",
    "# Predict\n",
    "prediction = model.predict(sample.reshape(1, 200))[0][0]\n",
    "print(\"Predicted Sentiment:\", \"Positive 😊\" if prediction > 0.5 else \"Negative 😞\")"
   ]
  },
  {
   "cell_type": "raw",
   "id": "f94c2fa4-318f-4495-a686-0e1223d401c1",
   "metadata": {},
   "source": [
    "An RNN (Recurrent Neural Network) is a type of neural network designed to handle sequential data like time series, text, or speech. Unlike regular neural networks, RNNs have memory — they remember previous inputs using internal loops."
   ]
  }
 ],
 "metadata": {
  "kernelspec": {
   "display_name": "GG_2472",
   "language": "python",
   "name": "gg_2472"
  },
  "language_info": {
   "codemirror_mode": {
    "name": "ipython",
    "version": 3
   },
   "file_extension": ".py",
   "mimetype": "text/x-python",
   "name": "python",
   "nbconvert_exporter": "python",
   "pygments_lexer": "ipython3",
   "version": "3.9.18"
  }
 },
 "nbformat": 4,
 "nbformat_minor": 5
}
