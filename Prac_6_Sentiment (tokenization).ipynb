{
  "cells": [
    {
      "cell_type": "markdown",
      "id": "5e6cf148-7878-4e50-af74-0f4129cc776d",
      "metadata": {
        "id": "5e6cf148-7878-4e50-af74-0f4129cc776d"
      },
      "source": [
        "6. Perform Sentiment Analysis in the network graph using RNN."
      ]
    },
    {
      "cell_type": "code",
      "execution_count": null,
      "id": "f80b7f1b-17d2-4377-9f52-953dbb4ee51e",
      "metadata": {
        "id": "f80b7f1b-17d2-4377-9f52-953dbb4ee51e",
        "outputId": "8bbb2a8d-6ceb-4c5f-bdc1-bd80ba2512b3"
      },
      "outputs": [
        {
          "name": "stdout",
          "output_type": "stream",
          "text": [
            "Epoch 1/5\n",
            "\u001b[1m1/1\u001b[0m \u001b[32m━━━━━━━━━━━━━━━━━━━━\u001b[0m\u001b[37m\u001b[0m \u001b[1m2s\u001b[0m 2s/step - accuracy: 0.6667 - loss: 0.6908\n",
            "Epoch 2/5\n",
            "\u001b[1m1/1\u001b[0m \u001b[32m━━━━━━━━━━━━━━━━━━━━\u001b[0m\u001b[37m\u001b[0m \u001b[1m0s\u001b[0m 86ms/step - accuracy: 0.6667 - loss: 0.6831\n",
            "Epoch 3/5\n",
            "\u001b[1m1/1\u001b[0m \u001b[32m━━━━━━━━━━━━━━━━━━━━\u001b[0m\u001b[37m\u001b[0m \u001b[1m0s\u001b[0m 39ms/step - accuracy: 0.6667 - loss: 0.6753\n",
            "Epoch 4/5\n",
            "\u001b[1m1/1\u001b[0m \u001b[32m━━━━━━━━━━━━━━━━━━━━\u001b[0m\u001b[37m\u001b[0m \u001b[1m0s\u001b[0m 71ms/step - accuracy: 0.6667 - loss: 0.6673\n",
            "Epoch 5/5\n",
            "\u001b[1m1/1\u001b[0m \u001b[32m━━━━━━━━━━━━━━━━━━━━\u001b[0m\u001b[37m\u001b[0m \u001b[1m0s\u001b[0m 49ms/step - accuracy: 0.6667 - loss: 0.6587\n"
          ]
        },
        {
          "data": {
            "text/plain": [
              "<keras.src.callbacks.history.History at 0x79d4c7ff0250>"
            ]
          },
          "execution_count": 2,
          "metadata": {},
          "output_type": "execute_result"
        }
      ],
      "source": [
        "import numpy as np\n",
        "from tensorflow.keras.models import Sequential\n",
        "from tensorflow.keras.layers import Embedding, LSTM, Dense\n",
        "from tensorflow.keras.preprocessing.text import Tokenizer\n",
        "from tensorflow.keras.preprocessing.sequence import pad_sequences\n",
        "\n",
        "# Sample data\n",
        "texts = [\"I love this product\", \"This is terrible\", \"Absolutely great experience\"]\n",
        "labels = [1, 0, 1]  # Binary sentiment\n",
        "\n",
        "# Tokenization\n",
        "tokenizer = Tokenizer(num_words=5000)\n",
        "tokenizer.fit_on_texts(texts)\n",
        "sequences = tokenizer.texts_to_sequences(texts)\n",
        "X = pad_sequences(sequences, maxlen=100)\n",
        "\n",
        "# Convert labels to NumPy array\n",
        "labels = np.array(labels)\n",
        "\n",
        "# Model\n",
        "model = Sequential([\n",
        "    Embedding(input_dim=5000, output_dim=64),  # removed input_length warning\n",
        "    LSTM(64),\n",
        "    Dense(1, activation='sigmoid')\n",
        "])\n",
        "\n",
        "model.compile(loss='binary_crossentropy', optimizer='adam', metrics=['accuracy'])\n",
        "model.fit(X, labels, epochs=5)"
      ]
    },
    {
      "cell_type": "code",
      "execution_count": null,
      "id": "037ce45e-57e3-4dd7-88ab-78259bf46c2a",
      "metadata": {
        "id": "037ce45e-57e3-4dd7-88ab-78259bf46c2a"
      },
      "outputs": [],
      "source": [
        "def predict_sentiment(text):\n",
        "    seq = tokenizer.texts_to_sequences([text])\n",
        "    padded = pad_sequences(seq, maxlen=100)\n",
        "    prediction = model.predict(padded)[0][0]\n",
        "    return 'positive' if prediction > 0.5 else 'negative'"
      ]
    },
    {
      "cell_type": "code",
      "execution_count": null,
      "id": "2c829e0e-de4c-445c-9a10-2174c5b1c7be",
      "metadata": {
        "id": "2c829e0e-de4c-445c-9a10-2174c5b1c7be",
        "outputId": "246c5873-307e-4951-9a3d-f50e3a11dfcf"
      },
      "outputs": [
        {
          "name": "stdout",
          "output_type": "stream",
          "text": [
            "\u001b[1m1/1\u001b[0m \u001b[32m━━━━━━━━━━━━━━━━━━━━\u001b[0m\u001b[37m\u001b[0m \u001b[1m0s\u001b[0m 140ms/step\n",
            "\u001b[1m1/1\u001b[0m \u001b[32m━━━━━━━━━━━━━━━━━━━━\u001b[0m\u001b[37m\u001b[0m \u001b[1m0s\u001b[0m 26ms/step\n",
            "\u001b[1m1/1\u001b[0m \u001b[32m━━━━━━━━━━━━━━━━━━━━\u001b[0m\u001b[37m\u001b[0m \u001b[1m0s\u001b[0m 28ms/step\n"
          ]
        },
        {
          "data": {
            "image/png": "[encoded data removed]",
            "text/plain": [
              "<Figure size 640x480 with 1 Axes>"
            ]
          },
          "metadata": {},
          "output_type": "display_data"
        }
      ],
      "source": [
        "import networkx as nx\n",
        "\n",
        "G = nx.DiGraph()\n",
        "\n",
        "# Add nodes with sentiment\n",
        "nodes = {\n",
        "    1: \"I love this!\",\n",
        "    2: \"This is bad\",\n",
        "    3: \"Agreed!\"\n",
        "}\n",
        "for node_id, text in nodes.items():\n",
        "    sentiment = predict_sentiment(text)\n",
        "    G.add_node(node_id, sentiment=sentiment)\n",
        "\n",
        "# Add edges (e.g., reply or retweet)\n",
        "G.add_edge(2, 1)  # user 2 replied to user 1\n",
        "G.add_edge(3, 1)\n",
        "\n",
        "# Visualize\n",
        "import matplotlib.pyplot as plt\n",
        "\n",
        "color_map = []\n",
        "for node in G:\n",
        "    color_map.append('green' if G.nodes[node]['sentiment'] == 'positive' else 'red')\n",
        "\n",
        "nx.draw(G, with_labels=True, node_color=color_map)\n",
        "plt.show()"
      ]
    },
    {
      "cell_type": "code",
      "execution_count": null,
      "id": "1ace43f5-fa76-479c-a4ad-457605746a58",
      "metadata": {
        "id": "1ace43f5-fa76-479c-a4ad-457605746a58"
      },
      "outputs": [],
      "source": []
    }
  ],
  "metadata": {
    "kernelspec": {
      "display_name": "Python 3 (ipykernel)",
      "language": "python",
      "name": "python3"
    },
    "language_info": {
      "codemirror_mode": {
        "name": "ipython",
        "version": 3
      },
      "file_extension": ".py",
      "mimetype": "text/x-python",
      "name": "python",
      "nbconvert_exporter": "python",
      "pygments_lexer": "ipython3",
      "version": "3.10.12"
    },
    "colab": {
      "provenance": []
    }
  },
  "nbformat": 4,
  "nbformat_minor": 5
}